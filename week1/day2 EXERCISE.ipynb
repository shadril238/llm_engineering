{
 "cells": [
  {
   "cell_type": "markdown",
   "id": "d15d8294-3328-4e07-ad16-8a03e9bbfdb9",
   "metadata": {},
   "source": [
    "# Welcome to your first assignment!\n",
    "\n",
    "Instructions are below. Please give this a try, and look in the solutions folder if you get stuck (or feel free to ask me!)"
   ]
  },
  {
   "cell_type": "markdown",
   "id": "ada885d9-4d42-4d9b-97f0-74fbbbfe93a9",
   "metadata": {},
   "source": [
    "<table style=\"margin: 0; text-align: left;\">\n",
    "    <tr>\n",
    "        <td style=\"width: 150px; height: 150px; vertical-align: middle;\">\n",
    "            <img src=\"../resources.jpg\" width=\"150\" height=\"150\" style=\"display: block;\" />\n",
    "        </td>\n",
    "        <td>\n",
    "            <h2 style=\"color:#f71;\">Just before we get to the assignment --</h2>\n",
    "            <span style=\"color:#f71;\">I thought I'd take a second to point you at this page of useful resources for the course. This includes links to all the slides.<br/>\n",
    "            <a href=\"https://edwarddonner.com/2024/11/13/llm-engineering-resources/\">https://edwarddonner.com/2024/11/13/llm-engineering-resources/</a><br/>\n",
    "            Please keep this bookmarked, and I'll continue to add more useful links there over time.\n",
    "            </span>\n",
    "        </td>\n",
    "    </tr>\n",
    "</table>"
   ]
  },
  {
   "cell_type": "markdown",
   "id": "6e9fa1fc-eac5-4d1d-9be4-541b3f2b3458",
   "metadata": {},
   "source": [
    "# HOMEWORK EXERCISE ASSIGNMENT\n",
    "\n",
    "Upgrade the day 1 project to summarize a webpage to use an Open Source model running locally via Ollama rather than OpenAI\n",
    "\n",
    "You'll be able to use this technique for all subsequent projects if you'd prefer not to use paid APIs.\n",
    "\n",
    "**Benefits:**\n",
    "1. No API charges - open-source\n",
    "2. Data doesn't leave your box\n",
    "\n",
    "**Disadvantages:**\n",
    "1. Significantly less power than Frontier Model\n",
    "\n",
    "## Recap on installation of Ollama\n",
    "\n",
    "Simply visit [ollama.com](https://ollama.com) and install!\n",
    "\n",
    "Once complete, the ollama server should already be running locally.  \n",
    "If you visit:  \n",
    "[http://localhost:11434/](http://localhost:11434/)\n",
    "\n",
    "You should see the message `Ollama is running`.  \n",
    "\n",
    "If not, bring up a new Terminal (Mac) or Powershell (Windows) and enter `ollama serve`  \n",
    "And in another Terminal (Mac) or Powershell (Windows), enter `ollama pull llama3.2`  \n",
    "Then try [http://localhost:11434/](http://localhost:11434/) again.\n",
    "\n",
    "If Ollama is slow on your machine, try using `llama3.2:1b` as an alternative. Run `ollama pull llama3.2:1b` from a Terminal or Powershell, and change the code below from `MODEL = \"llama3.2\"` to `MODEL = \"llama3.2:1b\"`"
   ]
  },
  {
   "cell_type": "code",
   "id": "4e2a9393-7767-488e-a8bf-27c12dca35bd",
   "metadata": {
    "ExecuteTime": {
     "end_time": "2025-01-28T19:13:05.351989Z",
     "start_time": "2025-01-28T19:13:05.269413Z"
    }
   },
   "source": [
    "import openai\n",
    "# imports\n",
    "\n",
    "import requests\n",
    "from bs4 import BeautifulSoup\n",
    "from IPython.display import Markdown, display"
   ],
   "outputs": [],
   "execution_count": 1
  },
  {
   "cell_type": "code",
   "id": "29ddd15d-a3c5-4f4e-a678-873f56162724",
   "metadata": {
    "ExecuteTime": {
     "end_time": "2025-01-28T19:20:05.773390Z",
     "start_time": "2025-01-28T19:20:05.771328Z"
    }
   },
   "source": [
    "# Constants\n",
    "\n",
    "OLLAMA_API = \"http://localhost:11434/api/chat\"\n",
    "HEADERS = {\"Content-Type\": \"application/json\"}\n",
    "MODEL = \"llama3.2\""
   ],
   "outputs": [],
   "execution_count": 4
  },
  {
   "cell_type": "code",
   "id": "dac0a679-599c-441f-9bf2-ddc73d35b940",
   "metadata": {
    "ExecuteTime": {
     "end_time": "2025-01-28T19:23:38.047937Z",
     "start_time": "2025-01-28T19:23:38.045968Z"
    }
   },
   "source": [
    "# Create a messages list using the same format that we used for OpenAI\n",
    "\n",
    "messages = [\n",
    "    {\"role\": \"user\", \"content\": \"Describe some of the business applications of Generative AI in 5 lines\"}\n",
    "]"
   ],
   "outputs": [],
   "execution_count": 13
  },
  {
   "cell_type": "code",
   "id": "7bb9c624-14f0-4945-a719-8ddb64f66f47",
   "metadata": {
    "ExecuteTime": {
     "end_time": "2025-01-28T19:26:19.280463Z",
     "start_time": "2025-01-28T19:26:19.277689Z"
    }
   },
   "source": [
    "payload = {\n",
    "    \"model\": MODEL,\n",
    "    \"messages\": messages,\n",
    "    \"stream\": False\n",
    "}"
   ],
   "outputs": [],
   "execution_count": 20
  },
  {
   "cell_type": "code",
   "id": "479ff514-e8bd-4985-a572-2ea28bb4fa40",
   "metadata": {
    "ExecuteTime": {
     "end_time": "2025-01-28T19:26:20.991460Z",
     "start_time": "2025-01-28T19:26:19.483315Z"
    }
   },
   "source": [
    "# Let's just make sure the model is loaded\n",
    "\n",
    "!ollama pull llama3.2"
   ],
   "outputs": [
    {
     "name": "stdout",
     "output_type": "stream",
     "text": [
      "\u001B[?25lpulling manifest ⠙ \u001B[?25h\u001B[?25l\u001B[2K\u001B[1Gpulling manifest ⠹ \u001B[?25h\u001B[?25l\u001B[2K\u001B[1Gpulling manifest ⠹ \u001B[?25h\u001B[?25l\u001B[2K\u001B[1Gpulling manifest ⠸ \u001B[?25h\u001B[?25l\u001B[2K\u001B[1Gpulling manifest ⠴ \u001B[?25h\u001B[?25l\u001B[2K\u001B[1Gpulling manifest ⠴ \u001B[?25h\u001B[?25l\u001B[2K\u001B[1Gpulling manifest ⠦ \u001B[?25h\u001B[?25l\u001B[2K\u001B[1Gpulling manifest ⠧ \u001B[?25h\u001B[?25l\u001B[2K\u001B[1Gpulling manifest ⠏ \u001B[?25h\u001B[?25l\u001B[2K\u001B[1Gpulling manifest ⠏ \u001B[?25h\u001B[?25l\u001B[2K\u001B[1Gpulling manifest ⠙ \u001B[?25h\u001B[?25l\u001B[2K\u001B[1Gpulling manifest ⠙ \u001B[?25h\u001B[?25l\u001B[2K\u001B[1Gpulling manifest \r\n",
      "pulling dde5aa3fc5ff... 100% ▕████████████████▏ 2.0 GB                         \r\n",
      "pulling 966de95ca8a6... 100% ▕████████████████▏ 1.4 KB                         \r\n",
      "pulling fcc5a6bec9da... 100% ▕████████████████▏ 7.7 KB                         \r\n",
      "pulling a70ff7e570d9... 100% ▕████████████████▏ 6.0 KB                         \r\n",
      "pulling 56bb8bd477a5... 100% ▕████████████████▏   96 B                         \r\n",
      "pulling 34bb5ab01051... 100% ▕████████████████▏  561 B                         \r\n",
      "verifying sha256 digest \r\n",
      "writing manifest \r\n",
      "success \u001B[?25h\r\n"
     ]
    }
   ],
   "execution_count": 21
  },
  {
   "cell_type": "code",
   "id": "42b9f644-522d-4e05-a691-56e7658c0ea9",
   "metadata": {
    "ExecuteTime": {
     "end_time": "2025-01-28T19:26:26.833394Z",
     "start_time": "2025-01-28T19:26:20.998627Z"
    }
   },
   "source": [
    "# If this doesn't work for any reason, try the 2 versions in the following cells\n",
    "# And double check the instructions in the 'Recap on installation of Ollama' at the top of this lab\n",
    "# And if none of that works - contact me!\n",
    "\n",
    "response = requests.post(OLLAMA_API, json=payload, headers=HEADERS)\n",
    "print(response.json()['message']['content'])"
   ],
   "outputs": [
    {
     "name": "stdout",
     "output_type": "stream",
     "text": [
      "Generative AI is transforming various industries with its ability to create new content, designs, and models. In marketing, it's used for personalized product recommendations, social media post generation, and automated ad copywriting. In finance, it helps generate investment reports, financial forecasts, and risk assessments. Additionally, Generative AI is being applied in healthcare for generating medical images, disease diagnosis, and personalized treatment plans. It also aids in creating new products and services through generative design and prototyping.\n"
     ]
    }
   ],
   "execution_count": 22
  },
  {
   "cell_type": "markdown",
   "id": "6a021f13-d6a1-4b96-8e18-4eae49d876fe",
   "metadata": {},
   "source": [
    "# Introducing the ollama package\n",
    "\n",
    "And now we'll do the same thing, but using the elegant ollama python package instead of a direct HTTP call.\n",
    "\n",
    "Under the hood, it's making the same call as above to the ollama server running at localhost:11434"
   ]
  },
  {
   "cell_type": "code",
   "id": "7745b9c4-57dc-4867-9180-61fa5db55eb8",
   "metadata": {
    "ExecuteTime": {
     "end_time": "2025-01-28T19:27:09.813060Z",
     "start_time": "2025-01-28T19:27:04.131740Z"
    }
   },
   "source": [
    "import ollama\n",
    "\n",
    "response = ollama.chat(model=MODEL, messages=messages)\n",
    "print(response['message']['content'])"
   ],
   "outputs": [
    {
     "name": "stdout",
     "output_type": "stream",
     "text": [
      "Generative AI has numerous business applications, including content generation, product design, and marketing. It can be used to automate content creation, such as writing blog posts or generating social media posts. Generative AI can also assist with product design, allowing for the rapid creation of prototypes and designs. In marketing, it can help personalize customer experiences, generate ad copy, and analyze consumer behavior. Additionally, generative AI can optimize supply chains, predict demand, and identify potential risks.\n"
     ]
    }
   ],
   "execution_count": 23
  },
  {
   "cell_type": "markdown",
   "id": "a4704e10-f5fb-4c15-a935-f046c06fb13d",
   "metadata": {},
   "source": [
    "## Alternative approach - using OpenAI python library to connect to Ollama"
   ]
  },
  {
   "cell_type": "code",
   "id": "23057e00-b6fc-4678-93a9-6b31cb704bff",
   "metadata": {
    "ExecuteTime": {
     "end_time": "2025-01-28T19:29:43.502092Z",
     "start_time": "2025-01-28T19:29:37.894993Z"
    }
   },
   "source": [
    "# There's actually an alternative approach that some people might prefer\n",
    "# You can use the OpenAI client python library to call Ollama:\n",
    "\n",
    "from openai import OpenAI\n",
    "\n",
    "ollama_via_openai = OpenAI(base_url='http://localhost:11434/v1', api_key='ollama')\n",
    "\n",
    "response = ollama_via_openai.chat.completions.create(\n",
    "    model=MODEL,\n",
    "    messages=messages\n",
    ")\n",
    "\n",
    "print(response.choices[0].message.content)"
   ],
   "outputs": [
    {
     "name": "stdout",
     "output_type": "stream",
     "text": [
      "Generative AI has numerous business applications, including content creation, such as image and video generation for marketing and advertising. It can also be used for product design and prototyping, streamlining the innovation process. Generative AI-powered chatbots can enhance customer service, providing personalized responses to user inquiries. Additionally, it can aid in data analysis by generating summaries and visualizations of complex datasets. Moreover, generative AI is being explored for content moderation and intellectual property (IP) protection.\n"
     ]
    }
   ],
   "execution_count": 29
  },
  {
   "cell_type": "markdown",
   "id": "1622d9bb-5c68-4d4e-9ca4-b492c751f898",
   "metadata": {},
   "source": [
    "# NOW the exercise for you\n",
    "\n",
    "Take the code from day1 and incorporate it here, to build a website summarizer that uses Llama 3.2 running locally instead of OpenAI; use either of the above approaches."
   ]
  },
  {
   "cell_type": "code",
   "id": "402d5686-4e76-4110-b65a-b3906c35c0a4",
   "metadata": {
    "ExecuteTime": {
     "end_time": "2025-01-28T19:30:51.365870Z",
     "start_time": "2025-01-28T19:30:51.363778Z"
    }
   },
   "source": [
    "# author : shadril238\n",
    "\n",
    "headers = {\n",
    "    \"User-Agent\": \"Mozilla/5.0 (Windows NT 10.0; Win64; x64) AppleWebKit/537.36 (KHTML, like Gecko) Chrome/117.0.0.0 Safari/537.36\"\n",
    "}"
   ],
   "outputs": [],
   "execution_count": 31
  },
  {
   "metadata": {
    "ExecuteTime": {
     "end_time": "2025-01-28T19:36:10.981084Z",
     "start_time": "2025-01-28T19:36:10.977971Z"
    }
   },
   "cell_type": "code",
   "source": [
    "class Website:\n",
    "\n",
    "    def __init__(self, url):\n",
    "        self.url = url\n",
    "        response = requests.get(url, headers=headers)\n",
    "        soup = BeautifulSoup(response.content, 'html.parser')\n",
    "        self.title = soup.title.string if soup.title else 'No title found'\n",
    "        for irrelevant in soup.body(['script', 'style', 'img', 'input']):\n",
    "            irrelevant.decompose()  # removes unnecessary elements from a webpage's body\n",
    "        self.text = soup.get_text(separator='\\n', strip=True)"
   ],
   "id": "ba226cb968b9eac5",
   "outputs": [],
   "execution_count": 33
  },
  {
   "metadata": {
    "ExecuteTime": {
     "end_time": "2025-01-28T19:39:19.207283Z",
     "start_time": "2025-01-28T19:39:18.859704Z"
    }
   },
   "cell_type": "code",
   "source": [
    "bs23 = Website(url='https://brainstation-23.com/?bs')\n",
    "print(bs23.title)\n",
    "print(bs23.text)"
   ],
   "id": "8cda938cc927139c",
   "outputs": [
    {
     "name": "stdout",
     "output_type": "stream",
     "text": [
      "Brain Station 23 | Professionals @ Your Service\n",
      "Brain Station 23 | Professionals @ Your Service\n",
      "Skip to content\n",
      "Home\n",
      "Services\n",
      "Menu Toggle\n",
      "Field Force Automation\n",
      "Adobe Experience Manager\n",
      "Banking Solution\n",
      "Mobile App Development\n",
      "AR-VR Solution\n",
      "Menu Toggle\n",
      "Augmented Reality\n",
      "Virtual Reality\n",
      "3D Modeling\n",
      "Game Studio\n",
      "Cloud & Cyber Security\n",
      "ERP\n",
      "E-commerce Solution\n",
      "SharePoint Services\n",
      "Data Science & Business Intelligence\n",
      "ML & AI\n",
      "Software Testing as Service\n",
      "Industries\n",
      "Menu Toggle\n",
      "Fintech\n",
      "Healthcare\n",
      "Telecom\n",
      "Real Estate\n",
      "Software/ITES\n",
      "e-Commerce\n",
      "Education\n",
      "Retail\n",
      "Automotive\n",
      "Startup\n",
      "Case Studies\n",
      "Blog\n",
      "About Us\n",
      "Menu Toggle\n",
      "About Us\n",
      "Media\n",
      "Our Partners\n",
      "Career\n",
      "Investors\n",
      "Contact Us\n",
      "Main Menu\n",
      "Home\n",
      "Services\n",
      "Menu Toggle\n",
      "Field Force Automation\n",
      "Adobe Experience Manager\n",
      "Banking Solution\n",
      "Mobile App Development\n",
      "AR-VR Solution\n",
      "Menu Toggle\n",
      "Augmented Reality\n",
      "Virtual Reality\n",
      "3D Modeling\n",
      "Game Studio\n",
      "Cloud & Cyber Security\n",
      "ERP\n",
      "E-commerce Solution\n",
      "SharePoint Services\n",
      "Data Science & Business Intelligence\n",
      "ML & AI\n",
      "Software Testing as Service\n",
      "Industries\n",
      "Menu Toggle\n",
      "Fintech\n",
      "Healthcare\n",
      "Telecom\n",
      "Real Estate\n",
      "Software/ITES\n",
      "e-Commerce\n",
      "Education\n",
      "Retail\n",
      "Automotive\n",
      "Startup\n",
      "Case Studies\n",
      "Blog\n",
      "About Us\n",
      "Menu Toggle\n",
      "About Us\n",
      "Media\n",
      "Our Partners\n",
      "Career\n",
      "Investors\n",
      "Contact Us\n",
      "+\n",
      "Tech Partners\n",
      "+\n",
      "Years of Experience\n",
      "+\n",
      "Countries Served\n",
      "+\n",
      "Professionals\n",
      "+\n",
      "Projects Completed\n",
      "Technology Partners\n",
      "Industries We Serve\n",
      "Fintech\n",
      "Healthcare\n",
      "Telco\n",
      "E-com\n",
      "Real Estate\n",
      "Automotive\n",
      "Software\n",
      "Startup\n",
      "Education\n",
      "Retail\n",
      "Non-Profit\n",
      "Miscellaneous\n",
      "Key Client Portfolio\n",
      "Our Global Family\n",
      "Brain Station 23, USA\n",
      "The USA office is delivering tailored digital transformation solutions and advanced IT services worldwide\n",
      "Dubai\n",
      "Our Dubai office is the central hub, connecting our global operations and driving innovation across all Brain Station 23 locations worldwide.\n",
      "Brain Station 51, Germany\n",
      "Stationed in Germany, has a strong hold in\n",
      "offering MNCs and Enterprises premium\n",
      "IT services they need.\n",
      "Blog Posts\n",
      "Get Industry Insights\n",
      "Why Choose nopCommerce as an Open-Source E-Commerce Platform\n",
      "nopStation Themes for nopCommerce: Elevating Your E-Commerce Experience\n",
      "GITEX Global 2024: Innovation and Tech Trends with Brain Station 23\n",
      "How to Improve LMS Utilization for a Remote Workforce\n",
      "How AI Algorithms Automating Legal Landscape: Creating, Reviewing, and Managing Legal Contracts\n",
      "Enhancing AEM User Engagement: UI/UX Tips & Techniques\n",
      "Internet Banking with Mobile Apps to Expand Banking Services in Bangladesh\n",
      "Want to Join Us as a Partner?\n",
      "With the help of our partners, we can share our expertise and resources around the world. And thus we are expanding as the home of top IT professionals. So contact us to see how you can join our global family!\n",
      "See why & how\n",
      "Search\n",
      "Serving Enterprises and SMEs with Technological Partnership Since 2006.\n",
      "UAE\n",
      "903, DAMAC XL Tower\n",
      "Business Bay, P.O. BOX 29544\n",
      "Dubai, UAE.\n",
      "USA\n",
      "7426 Alban Station Blvd, Suite a101, Springfield, VA 22150\n",
      "Malaysia\n",
      "Level 9, Integra Tower,\n",
      "The Intermark, No. 348,\n",
      "Jalan Tun Razak, 50400\n",
      "Kuala Lumpur, Malaysia\n",
      "Facebook-f\n",
      "Linkedin-in\n",
      "Twitter\n",
      "Youtube\n",
      "Medium\n",
      "Top Trends\n",
      "Front-End Developers\n",
      "Full-Stack Developers\n",
      "Angular Developers\n",
      "Node.js Developers\n",
      "JavaScript Developers\n",
      "React Developers\n",
      ".NET Developers\n",
      "Java Developers\n",
      "PHP Developers\n",
      "Python Developers\n",
      "C/C++ Developers\n",
      "C# Developers\n",
      "Ruby Developers\n",
      "Unity3D Developers\n",
      "iOS Developers\n",
      "Android Developers\n",
      "nopCommerce Developers\n",
      "Drupal Developers\n",
      "SQL Developers\n",
      "QA Engineers\n",
      "UI/UX Designers\n",
      "Product Owner\n",
      "Scrum Master\n",
      "DevOps Engineer\n",
      "Get In Touch\n",
      "UAE +971 42420223\n",
      "Malaysia +601111708999\n",
      "USA +1 201 534 7200\n",
      "[email protected]\n"
     ]
    }
   ],
   "execution_count": 40
  },
  {
   "metadata": {
    "ExecuteTime": {
     "end_time": "2025-01-28T19:40:31.700924Z",
     "start_time": "2025-01-28T19:40:31.699061Z"
    }
   },
   "cell_type": "code",
   "source": "system_prompt = \"You are an assistant that analyzes the contents of a website and provides a short summary, ignoring text that might be navigation related. Respond in markdown.\"",
   "id": "dfddc2114aac0c",
   "outputs": [],
   "execution_count": 42
  },
  {
   "metadata": {
    "ExecuteTime": {
     "end_time": "2025-01-28T19:41:40.969503Z",
     "start_time": "2025-01-28T19:41:40.966478Z"
    }
   },
   "cell_type": "code",
   "source": [
    "def user_prompt_for(website):\n",
    "    user_prompt = f\"You are looking at a website titled {website.title}\"\n",
    "    user_prompt += \"\\nThe contents of this website is as follows; please provide a short summary of this website in markdown. If it includes news or announcements, then summarize these too.\\n\\n\"\n",
    "    user_prompt += website.text\n",
    "    return user_prompt"
   ],
   "id": "6b6b447045d430e1",
   "outputs": [],
   "execution_count": 45
  },
  {
   "metadata": {
    "ExecuteTime": {
     "end_time": "2025-01-28T19:41:41.177126Z",
     "start_time": "2025-01-28T19:41:41.174409Z"
    }
   },
   "cell_type": "code",
   "source": "print(user_prompt_for(bs23))",
   "id": "4f94d08c13239dad",
   "outputs": [
    {
     "name": "stdout",
     "output_type": "stream",
     "text": [
      "You are looking at a website titled Brain Station 23 | Professionals @ Your Service\n",
      "The contents of this website is as follows; please provide a short summary of this website in markdown. If it includes news or announcements, then summarize these too.\n",
      "\n",
      "Brain Station 23 | Professionals @ Your Service\n",
      "Skip to content\n",
      "Home\n",
      "Services\n",
      "Menu Toggle\n",
      "Field Force Automation\n",
      "Adobe Experience Manager\n",
      "Banking Solution\n",
      "Mobile App Development\n",
      "AR-VR Solution\n",
      "Menu Toggle\n",
      "Augmented Reality\n",
      "Virtual Reality\n",
      "3D Modeling\n",
      "Game Studio\n",
      "Cloud & Cyber Security\n",
      "ERP\n",
      "E-commerce Solution\n",
      "SharePoint Services\n",
      "Data Science & Business Intelligence\n",
      "ML & AI\n",
      "Software Testing as Service\n",
      "Industries\n",
      "Menu Toggle\n",
      "Fintech\n",
      "Healthcare\n",
      "Telecom\n",
      "Real Estate\n",
      "Software/ITES\n",
      "e-Commerce\n",
      "Education\n",
      "Retail\n",
      "Automotive\n",
      "Startup\n",
      "Case Studies\n",
      "Blog\n",
      "About Us\n",
      "Menu Toggle\n",
      "About Us\n",
      "Media\n",
      "Our Partners\n",
      "Career\n",
      "Investors\n",
      "Contact Us\n",
      "Main Menu\n",
      "Home\n",
      "Services\n",
      "Menu Toggle\n",
      "Field Force Automation\n",
      "Adobe Experience Manager\n",
      "Banking Solution\n",
      "Mobile App Development\n",
      "AR-VR Solution\n",
      "Menu Toggle\n",
      "Augmented Reality\n",
      "Virtual Reality\n",
      "3D Modeling\n",
      "Game Studio\n",
      "Cloud & Cyber Security\n",
      "ERP\n",
      "E-commerce Solution\n",
      "SharePoint Services\n",
      "Data Science & Business Intelligence\n",
      "ML & AI\n",
      "Software Testing as Service\n",
      "Industries\n",
      "Menu Toggle\n",
      "Fintech\n",
      "Healthcare\n",
      "Telecom\n",
      "Real Estate\n",
      "Software/ITES\n",
      "e-Commerce\n",
      "Education\n",
      "Retail\n",
      "Automotive\n",
      "Startup\n",
      "Case Studies\n",
      "Blog\n",
      "About Us\n",
      "Menu Toggle\n",
      "About Us\n",
      "Media\n",
      "Our Partners\n",
      "Career\n",
      "Investors\n",
      "Contact Us\n",
      "+\n",
      "Tech Partners\n",
      "+\n",
      "Years of Experience\n",
      "+\n",
      "Countries Served\n",
      "+\n",
      "Professionals\n",
      "+\n",
      "Projects Completed\n",
      "Technology Partners\n",
      "Industries We Serve\n",
      "Fintech\n",
      "Healthcare\n",
      "Telco\n",
      "E-com\n",
      "Real Estate\n",
      "Automotive\n",
      "Software\n",
      "Startup\n",
      "Education\n",
      "Retail\n",
      "Non-Profit\n",
      "Miscellaneous\n",
      "Key Client Portfolio\n",
      "Our Global Family\n",
      "Brain Station 23, USA\n",
      "The USA office is delivering tailored digital transformation solutions and advanced IT services worldwide\n",
      "Dubai\n",
      "Our Dubai office is the central hub, connecting our global operations and driving innovation across all Brain Station 23 locations worldwide.\n",
      "Brain Station 51, Germany\n",
      "Stationed in Germany, has a strong hold in\n",
      "offering MNCs and Enterprises premium\n",
      "IT services they need.\n",
      "Blog Posts\n",
      "Get Industry Insights\n",
      "Why Choose nopCommerce as an Open-Source E-Commerce Platform\n",
      "nopStation Themes for nopCommerce: Elevating Your E-Commerce Experience\n",
      "GITEX Global 2024: Innovation and Tech Trends with Brain Station 23\n",
      "How to Improve LMS Utilization for a Remote Workforce\n",
      "How AI Algorithms Automating Legal Landscape: Creating, Reviewing, and Managing Legal Contracts\n",
      "Enhancing AEM User Engagement: UI/UX Tips & Techniques\n",
      "Internet Banking with Mobile Apps to Expand Banking Services in Bangladesh\n",
      "Want to Join Us as a Partner?\n",
      "With the help of our partners, we can share our expertise and resources around the world. And thus we are expanding as the home of top IT professionals. So contact us to see how you can join our global family!\n",
      "See why & how\n",
      "Search\n",
      "Serving Enterprises and SMEs with Technological Partnership Since 2006.\n",
      "UAE\n",
      "903, DAMAC XL Tower\n",
      "Business Bay, P.O. BOX 29544\n",
      "Dubai, UAE.\n",
      "USA\n",
      "7426 Alban Station Blvd, Suite a101, Springfield, VA 22150\n",
      "Malaysia\n",
      "Level 9, Integra Tower,\n",
      "The Intermark, No. 348,\n",
      "Jalan Tun Razak, 50400\n",
      "Kuala Lumpur, Malaysia\n",
      "Facebook-f\n",
      "Linkedin-in\n",
      "Twitter\n",
      "Youtube\n",
      "Medium\n",
      "Top Trends\n",
      "Front-End Developers\n",
      "Full-Stack Developers\n",
      "Angular Developers\n",
      "Node.js Developers\n",
      "JavaScript Developers\n",
      "React Developers\n",
      ".NET Developers\n",
      "Java Developers\n",
      "PHP Developers\n",
      "Python Developers\n",
      "C/C++ Developers\n",
      "C# Developers\n",
      "Ruby Developers\n",
      "Unity3D Developers\n",
      "iOS Developers\n",
      "Android Developers\n",
      "nopCommerce Developers\n",
      "Drupal Developers\n",
      "SQL Developers\n",
      "QA Engineers\n",
      "UI/UX Designers\n",
      "Product Owner\n",
      "Scrum Master\n",
      "DevOps Engineer\n",
      "Get In Touch\n",
      "UAE +971 42420223\n",
      "Malaysia +601111708999\n",
      "USA +1 201 534 7200\n",
      "[email protected]\n"
     ]
    }
   ],
   "execution_count": 46
  },
  {
   "metadata": {
    "ExecuteTime": {
     "end_time": "2025-01-28T19:43:33.493651Z",
     "start_time": "2025-01-28T19:43:33.491453Z"
    }
   },
   "cell_type": "code",
   "source": [
    "def message_for(website):\n",
    "    return [\n",
    "        {'role': 'system', 'content': system_prompt},\n",
    "        {'role': 'user', 'content': user_prompt_for(website)}\n",
    "    ]"
   ],
   "id": "f6c3e4a18cf8ff93",
   "outputs": [],
   "execution_count": 47
  },
  {
   "metadata": {
    "ExecuteTime": {
     "end_time": "2025-01-28T19:50:22.072323Z",
     "start_time": "2025-01-28T19:50:22.069622Z"
    }
   },
   "cell_type": "code",
   "source": [
    "def summarize(url):\n",
    "    website = Website(url)\n",
    "    response = ollama_via_openai.chat.completions.create(\n",
    "        model=MODEL,\n",
    "        messages=message_for(website),\n",
    "    )\n",
    "    print(response.choices[0].message.content)"
   ],
   "id": "dc52351905924b42",
   "outputs": [],
   "execution_count": 50
  },
  {
   "metadata": {
    "ExecuteTime": {
     "end_time": "2025-01-28T19:51:41.072901Z",
     "start_time": "2025-01-28T19:51:19.179448Z"
    }
   },
   "cell_type": "code",
   "source": "summarize('https://brainstation-23.com/?bs')",
   "id": "5a12261d0be14629",
   "outputs": [
    {
     "name": "stdout",
     "output_type": "stream",
     "text": [
      "**Summary of Brain Station 23 | Professionals @ Your Service**\n",
      "==============================================\n",
      "\n",
      "Brain Station 23 is a professional services company that provides a range of IT services, including field force automation, Adobe Experience Manager, banking solution, mobile app development, AR-VR solution, and more. The company has offices in the USA, Dubai, and Malaysia.\n",
      "\n",
      "**News and Announcements**\n",
      "---------------------------\n",
      "\n",
      "* GITEX Global 2024: Brain Station 23 will be showcasing innovation and tech trends at this upcoming event.\n",
      "* How to Improve LMS Utilization for a Remote Workforce: A blog post by Brain Station 23 provides insights on how to optimize learning management systems for remote teams.\n",
      "* Internet Banking with Mobile Apps: Brain Station 23 shares expertise on expanding banking services in Bangladesh through mobile apps.\n",
      "\n",
      "**Industries Served**\n",
      "-------------------\n",
      "\n",
      "Brain Station 23 serves various industries, including:\n",
      "\n",
      "* Fintech\n",
      "* Healthcare\n",
      "* Telecom\n",
      "* Real Estate\n",
      "* Software/ITES\n",
      "* e-Commerce\n",
      "* Education\n",
      "* Retail\n",
      "* Automotive\n",
      "* Startup\n",
      "\n",
      "**Key Services and Solutions**\n",
      "-----------------------------\n",
      "\n",
      "* Field Force Automation\n",
      "* Adobe Experience Manager\n",
      "* Banking Solution\n",
      "* Mobile App Development\n",
      "* AR-VR Solution\n",
      "* Data Science & Business Intelligence\n",
      "* ML & AI\n",
      "* Software Testing as Service\n",
      "* ERP\n",
      "* E-commerce Solution\n",
      "* SharePoint Services\n"
     ]
    }
   ],
   "execution_count": 52
  }
 ],
 "metadata": {
  "kernelspec": {
   "display_name": "Python 3 (ipykernel)",
   "language": "python",
   "name": "python3"
  },
  "language_info": {
   "codemirror_mode": {
    "name": "ipython",
    "version": 3
   },
   "file_extension": ".py",
   "mimetype": "text/x-python",
   "name": "python",
   "nbconvert_exporter": "python",
   "pygments_lexer": "ipython3",
   "version": "3.11.11"
  }
 },
 "nbformat": 4,
 "nbformat_minor": 5
}
